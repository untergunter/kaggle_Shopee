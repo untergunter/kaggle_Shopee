{
 "cells": [
  {
   "cell_type": "code",
   "execution_count": null,
   "id": "tired-diameter",
   "metadata": {},
   "outputs": [],
   "source": [
    "import numpy as np\n",
    "import os"
   ]
  },
  {
   "cell_type": "code",
   "execution_count": null,
   "outputs": [],
   "source": [
    "class Products_iterator():\n",
    "    #ido\n",
    "    pass\n",
    "\n",
    "def normlize_image(img_path:str):\n",
    "    #ron\n",
    "    pass\n",
    "\n",
    "def normlize_txt(txt:str):\n",
    "    #david\n",
    "    pass\n",
    "\n",
    "def save_image_and_txt(img:np.ndarray,txt,prod_id):\n",
    "    #ido\n",
    "    pass\n",
    "\n",
    "def save_csv(data:list):\n",
    "    #ido\n",
    "    pass\n",
    "\n",
    "def pre_procces():\n",
    "\n",
    "    products_iterator = Products_iterator(train=True)\n",
    "    pre_processing_csv = []\n",
    "    for image_path,txt,product_id,group in products_iterator:\n",
    "        image = normlize_image(image_path)\n",
    "        clean_txt = normlize_txt\n",
    "        img_path,txt_path = save_image_and_txt(image,clean_txt,product_id)\n",
    "        pre_processing_csv.append([img_path,txt_path,product_id,group])\n",
    "    save_csv(pre_processing_csv)"
   ],
   "metadata": {
    "collapsed": false,
    "pycharm": {
     "name": "#%%\n"
    }
   }
  }
 ],
 "metadata": {
  "kernelspec": {
   "display_name": "Python 3",
   "language": "python",
   "name": "python3"
  },
  "language_info": {
   "codemirror_mode": {
    "name": "ipython",
    "version": 3
   },
   "file_extension": ".py",
   "mimetype": "text/x-python",
   "name": "python",
   "nbconvert_exporter": "python",
   "pygments_lexer": "ipython3",
   "version": "3.8.6"
  }
 },
 "nbformat": 4,
 "nbformat_minor": 5
}