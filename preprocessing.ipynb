{
 "cells": [
  {
   "cell_type": "code",
   "execution_count": null,
   "id": "tired-diameter",
   "metadata": {},
   "outputs": [],
   "source": [
    "def pre_procces():\n",
    "    products_iterator = Products_iterator(train=True)\n",
    "    pre_processing_csv = []\n",
    "    for image_path,txt,product_id,group in products_iterator:\n",
    "        image = normlize_image(image_path)\n",
    "        clean_txt = normlize_txt\n",
    "        img_path,txt_path = save_image_and_txt(image,clean_txt,product_id)\n",
    "        pre_processing_csv.append([img_path,txt_path,product_id,group])"
   ]
  }
 ],
 "metadata": {
  "kernelspec": {
   "display_name": "Python 3",
   "language": "python",
   "name": "python3"
  },
  "language_info": {
   "codemirror_mode": {
    "name": "ipython",
    "version": 3
   },
   "file_extension": ".py",
   "mimetype": "text/x-python",
   "name": "python",
   "nbconvert_exporter": "python",
   "pygments_lexer": "ipython3",
   "version": "3.8.6"
  }
 },
 "nbformat": 4,
 "nbformat_minor": 5
}
