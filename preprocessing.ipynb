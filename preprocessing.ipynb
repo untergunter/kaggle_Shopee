{
 "cells": [
  {
   "cell_type": "code",
   "execution_count": null,
   "id": "tired-diameter",
   "metadata": {},
   "outputs": [],
   "source": [
    "import numpy as np\n",
    "import pandas as pd\n",
    "from collections import defaultdict\n",
    "import os"
   ]
  },
  {
   "cell_type": "code",
   "execution_count": null,
   "outputs": [],
   "source": [
    "def set_up_label_group():\n",
    "    file = 'train.csv'\n",
    "    line_ids_by_label = defaultdict(list)\n",
    "    raw_df = pd.read_csv(file)\n",
    "    for index,row in raw_df.iterrows():\n",
    "        label = row['label_group']\n",
    "        line_ids_by_label[label].append(index)\n",
    "    label_df = pd.DataFrame(line_ids_by_label.items(),columns=['label','row_id'])\n",
    "    label_df.to_csv('train_row_label.csv',index=False)"
   ],
   "metadata": {
    "collapsed": false,
    "pycharm": {
     "name": "#%%\n"
    }
   }
  },
  {
   "cell_type": "code",
   "execution_count": null,
   "outputs": [],
   "source": [
    "class Products_iterator():\n",
    "\n",
    "    def __init__(self,is_test:bool=True):\n",
    "        if is_test is True:\n",
    "            self.metadata = pd.read_csv('train.csv')\n",
    "        elif is_test is False:\n",
    "            self.metadata = pd.read_csv('test.csv')\n",
    "\n",
    "        self.label_group = self.set_up_label_group()\n",
    "\n",
    "\n",
    "\n",
    "\n",
    "\n",
    "def normlize_image(img_path:str):\n",
    "    #ron\n",
    "    pass\n",
    "\n",
    "def normlize_txt(txt:str):\n",
    "    #david\n",
    "    pass\n",
    "\n",
    "def save_image_and_txt(img:np.ndarray,txt,prod_id):\n",
    "    #ido\n",
    "    pass\n",
    "\n",
    "def save_csv(data:list):\n",
    "    #ido\n",
    "    pass\n",
    "\n",
    "def pre_procces():\n",
    "\n",
    "    products_iterator = Products_iterator(train=True)\n",
    "    pre_processing_csv = []\n",
    "    for image_path,txt,product_id,group in products_iterator:\n",
    "        image = normlize_image(image_path)\n",
    "        clean_txt = normlize_txt\n",
    "        img_path,txt_path = save_image_and_txt(image,clean_txt,product_id)\n",
    "        pre_processing_csv.append([img_path,txt_path,product_id,group])\n",
    "    save_csv(pre_processing_csv)"
   ],
   "metadata": {
    "collapsed": false,
    "pycharm": {
     "name": "#%%\n"
    }
   }
  }
 ],
 "metadata": {
  "kernelspec": {
   "display_name": "Python 3",
   "language": "python",
   "name": "python3"
  },
  "language_info": {
   "codemirror_mode": {
    "name": "ipython",
    "version": 3
   },
   "file_extension": ".py",
   "mimetype": "text/x-python",
   "name": "python",
   "nbconvert_exporter": "python",
   "pygments_lexer": "ipython3",
   "version": "3.8.6"
  }
 },
 "nbformat": 4,
 "nbformat_minor": 5
}